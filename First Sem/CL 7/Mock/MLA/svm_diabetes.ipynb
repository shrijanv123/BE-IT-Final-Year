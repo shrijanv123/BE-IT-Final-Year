{
  "nbformat": 4,
  "nbformat_minor": 0,
  "metadata": {
    "colab": {
      "name": "svm_diabetes.ipynb",
      "provenance": []
    },
    "kernelspec": {
      "name": "python3",
      "display_name": "Python 3"
    }
  },
  "cells": [
    {
      "cell_type": "markdown",
      "metadata": {
        "id": "HY8-qnUm3K_w"
      },
      "source": [
        "# SVM on Diabetes Dataset"
      ]
    },
    {
      "cell_type": "markdown",
      "metadata": {
        "id": "iF7T6Hq_2yDd"
      },
      "source": [
        "### Imports"
      ]
    },
    {
      "cell_type": "code",
      "metadata": {
        "id": "CGM2EbDcxoVO"
      },
      "source": [
        "import pandas as pd\n",
        "import numpy as np\n",
        "from sklearn.model_selection import train_test_split\n",
        "from sklearn.preprocessing import StandardScaler\n",
        "from sklearn.svm import SVC\n",
        "from sklearn.metrics import confusion_matrix\n",
        "from sklearn.metrics import f1_score\n",
        "from sklearn.metrics import accuracy_score\n",
        "from sklearn.feature_selection import SelectKBest\n",
        "from sklearn.feature_selection import chi2\n",
        "from sklearn.feature_selection import VarianceThreshold\n",
        "import matplotlib.pyplot as plt\n",
        "import seaborn as sns\n",
        "%matplotlib inline"
      ],
      "execution_count": 8,
      "outputs": []
    },
    {
      "cell_type": "markdown",
      "metadata": {
        "id": "VKtqLrcx2_ji"
      },
      "source": [
        "### Load Dataset"
      ]
    },
    {
      "cell_type": "code",
      "metadata": {
        "colab": {
          "base_uri": "https://localhost:8080/",
          "height": 204
        },
        "id": "Evji_Ud5ztRh",
        "outputId": "62f2dd26-026e-4715-bb76-a2a3c246ffbf"
      },
      "source": [
        "df = pd.read_csv('/content/diabetes.csv')\n",
        "df.head()"
      ],
      "execution_count": 18,
      "outputs": [
        {
          "output_type": "execute_result",
          "data": {
            "text/html": [
              "<div>\n",
              "<style scoped>\n",
              "    .dataframe tbody tr th:only-of-type {\n",
              "        vertical-align: middle;\n",
              "    }\n",
              "\n",
              "    .dataframe tbody tr th {\n",
              "        vertical-align: top;\n",
              "    }\n",
              "\n",
              "    .dataframe thead th {\n",
              "        text-align: right;\n",
              "    }\n",
              "</style>\n",
              "<table border=\"1\" class=\"dataframe\">\n",
              "  <thead>\n",
              "    <tr style=\"text-align: right;\">\n",
              "      <th></th>\n",
              "      <th>Pregnancies</th>\n",
              "      <th>Glucose</th>\n",
              "      <th>BloodPressure</th>\n",
              "      <th>SkinThickness</th>\n",
              "      <th>Insulin</th>\n",
              "      <th>BMI</th>\n",
              "      <th>DiabetesPedigreeFunction</th>\n",
              "      <th>Age</th>\n",
              "      <th>Outcome</th>\n",
              "    </tr>\n",
              "  </thead>\n",
              "  <tbody>\n",
              "    <tr>\n",
              "      <th>0</th>\n",
              "      <td>6</td>\n",
              "      <td>148</td>\n",
              "      <td>72</td>\n",
              "      <td>35</td>\n",
              "      <td>0</td>\n",
              "      <td>33.6</td>\n",
              "      <td>0.627</td>\n",
              "      <td>50</td>\n",
              "      <td>1</td>\n",
              "    </tr>\n",
              "    <tr>\n",
              "      <th>1</th>\n",
              "      <td>1</td>\n",
              "      <td>85</td>\n",
              "      <td>66</td>\n",
              "      <td>29</td>\n",
              "      <td>0</td>\n",
              "      <td>26.6</td>\n",
              "      <td>0.351</td>\n",
              "      <td>31</td>\n",
              "      <td>0</td>\n",
              "    </tr>\n",
              "    <tr>\n",
              "      <th>2</th>\n",
              "      <td>8</td>\n",
              "      <td>183</td>\n",
              "      <td>64</td>\n",
              "      <td>0</td>\n",
              "      <td>0</td>\n",
              "      <td>23.3</td>\n",
              "      <td>0.672</td>\n",
              "      <td>32</td>\n",
              "      <td>1</td>\n",
              "    </tr>\n",
              "    <tr>\n",
              "      <th>3</th>\n",
              "      <td>1</td>\n",
              "      <td>89</td>\n",
              "      <td>66</td>\n",
              "      <td>23</td>\n",
              "      <td>94</td>\n",
              "      <td>28.1</td>\n",
              "      <td>0.167</td>\n",
              "      <td>21</td>\n",
              "      <td>0</td>\n",
              "    </tr>\n",
              "    <tr>\n",
              "      <th>4</th>\n",
              "      <td>0</td>\n",
              "      <td>137</td>\n",
              "      <td>40</td>\n",
              "      <td>35</td>\n",
              "      <td>168</td>\n",
              "      <td>43.1</td>\n",
              "      <td>2.288</td>\n",
              "      <td>33</td>\n",
              "      <td>1</td>\n",
              "    </tr>\n",
              "  </tbody>\n",
              "</table>\n",
              "</div>"
            ],
            "text/plain": [
              "   Pregnancies  Glucose  BloodPressure  ...  DiabetesPedigreeFunction  Age  Outcome\n",
              "0            6      148             72  ...                     0.627   50        1\n",
              "1            1       85             66  ...                     0.351   31        0\n",
              "2            8      183             64  ...                     0.672   32        1\n",
              "3            1       89             66  ...                     0.167   21        0\n",
              "4            0      137             40  ...                     2.288   33        1\n",
              "\n",
              "[5 rows x 9 columns]"
            ]
          },
          "metadata": {
            "tags": []
          },
          "execution_count": 18
        }
      ]
    },
    {
      "cell_type": "code",
      "metadata": {
        "colab": {
          "base_uri": "https://localhost:8080/"
        },
        "id": "ll5kwVS-0A_N",
        "outputId": "3e286887-eb89-4474-cfed-0972937d646d"
      },
      "source": [
        "print(df.describe())\n",
        "X = df.iloc[:, 0:8]\n",
        "y = df.iloc[:, 8]"
      ],
      "execution_count": 10,
      "outputs": [
        {
          "output_type": "stream",
          "text": [
            "       Pregnancies     Glucose  ...         Age     Outcome\n",
            "count   768.000000  768.000000  ...  768.000000  768.000000\n",
            "mean      3.845052  120.894531  ...   33.240885    0.348958\n",
            "std       3.369578   31.972618  ...   11.760232    0.476951\n",
            "min       0.000000    0.000000  ...   21.000000    0.000000\n",
            "25%       1.000000   99.000000  ...   24.000000    0.000000\n",
            "50%       3.000000  117.000000  ...   29.000000    0.000000\n",
            "75%       6.000000  140.250000  ...   41.000000    1.000000\n",
            "max      17.000000  199.000000  ...   81.000000    1.000000\n",
            "\n",
            "[8 rows x 9 columns]\n"
          ],
          "name": "stdout"
        }
      ]
    },
    {
      "cell_type": "markdown",
      "metadata": {
        "id": "P25m_CzK5i2e"
      },
      "source": [
        "### View Correlation"
      ]
    },
    {
      "cell_type": "code",
      "metadata": {
        "colab": {
          "base_uri": "https://localhost:8080/",
          "height": 286
        },
        "id": "qCdwm9Zn5nO3",
        "outputId": "9fda50a4-e6af-42e3-9c54-3fc9b5695bcb"
      },
      "source": [
        "sns.heatmap(X.corr(), annot = True)"
      ],
      "execution_count": 19,
      "outputs": [
        {
          "output_type": "execute_result",
          "data": {
            "text/plain": [
              "<matplotlib.axes._subplots.AxesSubplot at 0x7f8048149390>"
            ]
          },
          "metadata": {
            "tags": []
          },
          "execution_count": 19
        },
        {
          "output_type": "display_data",
          "data": {
            "image/png": "[encoded data removed]",
            "text/plain": [
              "<Figure size 432x288 with 2 Axes>"
            ]
          },
          "metadata": {
            "tags": [],
            "needs_background": "light"
          }
        }
      ]
    },
    {
      "cell_type": "markdown",
      "metadata": {
        "id": "7ILn1aEe3chj"
      },
      "source": [
        "### Outliers\n"
      ]
    },
    {
      "cell_type": "markdown",
      "metadata": {
        "id": "i1Hz97JX3jl6"
      },
      "source": [
        "Replace zeroes with the median value"
      ]
    },
    {
      "cell_type": "code",
      "metadata": {
        "id": "jamTGpTB3nyk"
      },
      "source": [
        "zero_not_accepted_columns = ['Glucose', 'BloodPressure', 'SkinThickness', 'BMI', 'Insulin']\n",
        "\n",
        "for column in zero_not_accepted_columns:\n",
        "    X[column] = X[column].replace(0, np.NaN)\n",
        "    mean = int(X[column].mean(skipna=True))\n",
        "    X[column] = X[column].replace(np.NaN, mean)"
      ],
      "execution_count": 11,
      "outputs": []
    },
    {
      "cell_type": "markdown",
      "metadata": {
        "id": "yDujYOzJ4UHh"
      },
      "source": [
        "### Feature Extraction"
      ]
    },
    {
      "cell_type": "code",
      "metadata": {
        "colab": {
          "base_uri": "https://localhost:8080/"
        },
        "id": "wKCyIRt94GA0",
        "outputId": "07eb56a4-e6a0-49b7-8ae8-686b629f46bd"
      },
      "source": [
        "sel = VarianceThreshold(threshold=(.8 * (1 - .8)))\n",
        "X_filtered = sel.fit_transform(X)\n",
        "\n",
        "print(X.head(1))\n",
        "print(X_filtered[0])\n",
        "X = X.drop('DiabetesPedigreeFunction', axis=1)\n",
        "\n",
        "top_4_features = SelectKBest(score_func=chi2, k=4)\n",
        "X_top_4_features = top_4_features.fit_transform(X, y)\n",
        "print(X.head())\n",
        "print(X_top_4_features)\n",
        "X = X.drop(['Pregnancies', 'BloodPressure', 'SkinThickness'], axis=1)"
      ],
      "execution_count": 12,
      "outputs": [
        {
          "output_type": "stream",
          "text": [
            "   Pregnancies  Glucose  BloodPressure  ...   BMI  DiabetesPedigreeFunction  Age\n",
            "0            6    148.0           72.0  ...  33.6                     0.627   50\n",
            "\n",
            "[1 rows x 8 columns]\n",
            "[  6.  148.   72.   35.  155.   33.6  50. ]\n",
            "   Pregnancies  Glucose  BloodPressure  SkinThickness  Insulin   BMI  Age\n",
            "0            6    148.0           72.0           35.0    155.0  33.6   50\n",
            "1            1     85.0           66.0           29.0    155.0  26.6   31\n",
            "2            8    183.0           64.0           29.0    155.0  23.3   32\n",
            "3            1     89.0           66.0           23.0     94.0  28.1   21\n",
            "4            0    137.0           40.0           35.0    168.0  43.1   33\n",
            "[[  6. 148. 155.  50.]\n",
            " [  1.  85. 155.  31.]\n",
            " [  8. 183. 155.  32.]\n",
            " ...\n",
            " [  5. 121. 112.  30.]\n",
            " [  1. 126. 155.  47.]\n",
            " [  1.  93. 155.  23.]]\n"
          ],
          "name": "stdout"
        }
      ]
    },
    {
      "cell_type": "markdown",
      "metadata": {
        "id": "bpvDCN5v4aqJ"
      },
      "source": [
        "### Split the dataset"
      ]
    },
    {
      "cell_type": "markdown",
      "metadata": {
        "id": "UPKZuwty4dAi"
      },
      "source": [
        "Split the dataset into training and testing data (80 / 20)"
      ]
    },
    {
      "cell_type": "code",
      "metadata": {
        "id": "kk_cF67s4m96"
      },
      "source": [
        "X_train, X_test, y_train, y_test = train_test_split(X, y, random_state=0, test_size=0.20)"
      ],
      "execution_count": 13,
      "outputs": []
    },
    {
      "cell_type": "markdown",
      "metadata": {
        "id": "MYL0kkcP4p9c"
      },
      "source": [
        "### Feature Scaling"
      ]
    },
    {
      "cell_type": "code",
      "metadata": {
        "id": "PoucLgGB4rvF"
      },
      "source": [
        "sc_X = StandardScaler()\n",
        "X_train = sc_X.fit_transform(X_train)\n",
        "X_test = sc_X.transform(X_test)"
      ],
      "execution_count": 14,
      "outputs": []
    },
    {
      "cell_type": "markdown",
      "metadata": {
        "id": "KoaFIn4T4tW9"
      },
      "source": [
        "### SVC with Linear Kernel"
      ]
    },
    {
      "cell_type": "code",
      "metadata": {
        "colab": {
          "base_uri": "https://localhost:8080/"
        },
        "id": "5umm9hqj4xPt",
        "outputId": "fad25d7d-b4e0-4d02-b0c5-e03c261313af"
      },
      "source": [
        "classifier = SVC(random_state=0, kernel='rbf')\n",
        "classifier.fit(X_train, y_train)"
      ],
      "execution_count": 15,
      "outputs": [
        {
          "output_type": "execute_result",
          "data": {
            "text/plain": [
              "SVC(C=1.0, break_ties=False, cache_size=200, class_weight=None, coef0=0.0,\n",
              "    decision_function_shape='ovr', degree=3, gamma='scale', kernel='rbf',\n",
              "    max_iter=-1, probability=False, random_state=0, shrinking=True, tol=0.001,\n",
              "    verbose=False)"
            ]
          },
          "metadata": {
            "tags": []
          },
          "execution_count": 15
        }
      ]
    },
    {
      "cell_type": "markdown",
      "metadata": {
        "id": "SIazHV9t46kA"
      },
      "source": [
        "### Prediction"
      ]
    },
    {
      "cell_type": "markdown",
      "metadata": {
        "id": "ctFtfj6h484E"
      },
      "source": [
        "Predict using the test data"
      ]
    },
    {
      "cell_type": "code",
      "metadata": {
        "id": "6fBLtEAW4_u4"
      },
      "source": [
        "y_pred = classifier.predict(X_test)"
      ],
      "execution_count": 16,
      "outputs": []
    },
    {
      "cell_type": "markdown",
      "metadata": {
        "id": "fvTV_j2R5DLT"
      },
      "source": [
        "### Evaluate the Model"
      ]
    },
    {
      "cell_type": "markdown",
      "metadata": {
        "id": "hbO3xn6G5FVC"
      },
      "source": [
        "Evaluate using confusion matrix and give the accuracy "
      ]
    },
    {
      "cell_type": "code",
      "metadata": {
        "colab": {
          "base_uri": "https://localhost:8080/"
        },
        "id": "KYrR_eX-5Nhn",
        "outputId": "d3cb0eb7-acc0-43e2-9208-b5da26f0c088"
      },
      "source": [
        "cm = confusion_matrix(y_test, y_pred)\n",
        "print (cm)\n",
        "print(f1_score(y_test, y_pred))\n",
        "print(accuracy_score(y_test, y_pred))"
      ],
      "execution_count": 17,
      "outputs": [
        {
          "output_type": "stream",
          "text": [
            "[[97 10]\n",
            " [19 28]]\n",
            "0.6588235294117647\n",
            "0.8116883116883117\n"
          ],
          "name": "stdout"
        }
      ]
    }
  ]
}